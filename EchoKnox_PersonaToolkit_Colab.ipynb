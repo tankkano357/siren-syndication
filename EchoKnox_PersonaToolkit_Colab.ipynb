{
  "cells": [
    {
      "cell_type": "markdown",
      "metadata": {},
      "source": [
        "# 🚀 Fooocus One-Click + Persona Toolkit (Colab)\n",
        "Model pack picker • Persona prompts • Exports"
      ]
    },
    {
      "cell_type": "code",
      "metadata": {
        "id": "gpu"
      },
      "execution_count": null,
      "outputs": [],
      "source": [
        "import os; g=os.popen('nvidia-smi -L 2>/dev/null').read().strip(); print('GPU detected:' if g else 'No GPU detected.', g or ''); assert g, 'Enable GPU: Runtime→Change runtime type→GPU'"
      ]
    },
    {
      "cell_type": "code",
      "metadata": {
        "id": "drive"
      },
      "execution_count": null,
      "outputs": [],
      "source": [
        "from google.colab import drive; drive.mount('/content/drive', force_remount=True)\n",
        "BASE='/content/drive/MyDrive/Fooocus_persist'; MODELS=f'{BASE}/models'; OUTPUTS=f'{BASE}/outputs'; CKPT=f'{MODELS}/checkpoints'; LORA=f'{MODELS}/loras'; VAE=f'{MODELS}/vae'; EXPORTS=f'{BASE}/exports'; PROMPTS=f'{BASE}/prompt_packs'\n",
        "import os\n",
        "for p in [BASE, MODELS, OUTPUTS, CKPT, LORA, VAE, EXPORTS, PROMPTS]: os.makedirs(p, exist_ok=True); print('Ready:', p)"
      ]
    },
    {
      "cell_type": "code",
      "metadata": {
        "id": "install"
      },
      "execution_count": null,
      "outputs": [],
      "source": [
        "%cd /content\n",
        "!rm -rf Fooocus && git clone https://github.com/lllyasviel/Fooocus.git\n",
        "%cd /content/Fooocus\n",
        "!rm -rf models && ln -s \"$MODELS\" models\n",
        "!rm -rf outputs && ln -s \"$OUTPUTS\" outputs\n",
        "print('Installed + linked')"
      ]
    },
    {
      "cell_type": "code",
      "metadata": {
        "id": "packs"
      },
      "execution_count": null,
      "outputs": [],
      "source": [
        "import os, subprocess, shlex\n",
        "PACK_CHOICE='Realism_Starter'\n",
        "PACKS={'Realism_Starter':['https://civitai.com/api/download/models/1920523','https://civitai.com/api/download/models/300972']}\n",
        "def fetch(u,out): os.makedirs(out,exist_ok=True); print('Downloading:',u); return subprocess.call(f\"wget -nc -P {shlex.quote(out)} {shlex.quote(u)} --content-disposition\", shell=True)\n",
        "[fetch(u, f'{MODELS}/checkpoints') for u in PACKS[PACK_CHOICE]]\n",
        "print('Pack ready:', PACK_CHOICE)"
      ]
    },
    {
      "cell_type": "code",
      "metadata": {
        "id": "prompts"
      },
      "execution_count": null,
      "outputs": [],
      "source": [
        "import json, os, datetime\n",
        "persona='Echo Knox'; neg='blur, distortion, disfigurement, low quality, grainy, abstract'; boost='highly detailed, sharp textures, professional lighting, cinematic depth of field, creamy bokeh, realistic skin'\n",
        "pack={'meta':{'persona':persona,'updated':datetime.datetime.utcnow().isoformat()+'Z'},'negative_prompt':neg,'quality_boosters':boost,'SFW':['deadpan studio portrait, razor eyeliner, teasing half-smile, soft rim light, Nikon full-frame look','rooftop sunrise fashion set, hair in messy bun, confident posture, golden hour glow','beauty headshot, glossy hair, subtle highlight on cheekbones, softbox catchlights, shallow depth of field','streetwear alley pose, hands in pockets, sly grin, puddle reflections, slight film grain','window-light boudoir implied, sheer robe, linen textures, relaxed pose, understated seduction'],'Spicy':['lingerie editorial, lace details, seated on bed edge, playful dominance in the gaze, natural window light','shower steam portrait, wet hair slicked back, finger on lower lip, fogged glass, cinematic highlights','silhouette behind sheer curtain, elegant posture, hourglass outline, golden backlight, moody suite','close-up collarbone and lips, whispering smirk, glistening skin, intimate framing, creamy bokeh','nighttime city-view suite, robe and heels, reflective glass, commanding presence'],'NSFW_SafeUse':['bedroom set, confident lounging pose, lingerie ensemble, soft window light, tasteful composition, suggestive not explicit','back-arched pose on chaise, highlight curves, dramatic shadows, refined and elegant mood','standing by balcony door, robe slightly open, side profile emphasis, cinematic city backdrop']}\n",
        "os.makedirs(PROMPTS,exist_ok=True); path=os.path.join(PROMPTS,'Echo_Knox_prompt_pack.json'); open(path,'w',encoding='utf-8').write(json.dumps(pack,ensure_ascii=False,indent=2)); print('Saved →', path)"
      ]
    },
    {
      "cell_type": "code",
      "metadata": {
        "id": "launch"
      },
      "execution_count": null,
      "outputs": [],
      "source": [
        "%cd /content/Fooocus\n",
        "!python entry_with_update.py --share --always-high-vram"
      ]
    }
  ],
  "metadata": {
    "kernelspec": {
      "display_name": "Python 3",
      "language": "python",
      "name": "python3"
    }
  },
  "nbformat": 4,
  "nbformat_minor": 5
}